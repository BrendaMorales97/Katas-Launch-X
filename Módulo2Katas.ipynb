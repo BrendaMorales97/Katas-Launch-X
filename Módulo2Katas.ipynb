{
 "cells": [
  {
   "cell_type": "markdown",
   "metadata": {},
   "source": [
    "## Crear un entorno virtual\n",
    "\n",
    "### Crea un entorno virtual mediante `venv`\n",
    "\n",
    "Ejecutar en su terminal: `python3 -m venv env` o bien `python -m venv env`"
   ]
  },
  {
   "cell_type": "markdown",
   "metadata": {},
   "source": [
    "### Resultado\n",
    "![](Módulo2Katas/evidencias/ejecucion_activate.jpg)"
   ]
  },
  {
   "cell_type": "markdown",
   "metadata": {},
   "source": [
    "## Instalar una biblioteca\n",
    "\n",
    "  Ahora que estás dentro de tu entorno virtual, puedes instalar una biblioteca y saber que la biblioteca solo existirá en el entorno virtual.\n",
    "\n",
    "- Ejecuta el comando `pip freeze` para ver las bibliotecas instaladas en tu entorno:\n",
    "\n",
    "![](Módulo2Katas/evidencias/ejecucion_pip_freeze.jpg)"
   ]
  },
  {
   "cell_type": "markdown",
   "metadata": {},
   "source": [
    "  No deberías obtener respuesta. A continuación, veamos cómo cambia la salida de `pip freeze` cuando se agrega una biblioteca (un paquete).\n",
    "\n",
    "- Ejecuta el comando `pip install` para instalar una biblioteca:\n",
    "- Un gran mensaje de salida de texto dice que está instalando tu biblioteca, y debe terminar con la siguiente oración:\n",
    "\n",
    "![](Módulo2Katas/evidencias/ejecucion_pip_install.jpg)"
   ]
  },
  {
   "cell_type": "markdown",
   "metadata": {},
   "source": [
    "\n",
    "- Vuelve a ejecutar `pip freeze` para ver cómo ha cambiado tu lista de bibliotecas:\n",
    "- Ahora deberías ver la siguiente lista:\n",
    "\n",
    "![](Módulo2Katas/evidencias/ejecucion_pip_freeze_pip_install.jpg)"
   ]
  },
  {
   "cell_type": "markdown",
   "metadata": {},
   "source": [
    "## Desactivar un entorno virtual\n",
    "\n",
    "Hasta ahora, has creado un entorno virtual y le has agregado un paquete. Sin embargo, es posible que estés trabajando en varios proyectos de Python y necesites cambiar entre ellos. Para hacer eso, debes salir (desactivar) tu entorno virtual.\n",
    "\n",
    "Ejecuta el comando `deactivate`:\n",
    "\n",
    "![](Módulo2Katas/evidencias/ejecucion_deactivate.jpg)\n",
    "\n",
    "Observa cómo cambia el mensaje de tu terminal (env) a cómo se veía antes."
   ]
  }
 ],
 "metadata": {
  "language_info": {
   "name": "python"
  },
  "orig_nbformat": 4
 },
 "nbformat": 4,
 "nbformat_minor": 2
}
