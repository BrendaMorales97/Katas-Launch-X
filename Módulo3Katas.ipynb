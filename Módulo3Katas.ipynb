{
 "cells": [
  {
   "cell_type": "markdown",
   "metadata": {},
   "source": [
    "## Ejercicio - Escribir declaraciones if, else, y elif\n",
    "\n",
    "Las instrucciones `If` te permiten ejecutar condicionalmente código Python. Se usan comúnmente en Python para \"tomar decisiones\" sobre lo que debería suceder a continuación mientras se ejecuta un programa.\n",
    "\n",
    "Para crear una instrucción `if` en Python, define una expresión de prueba que pueda tener un valor `True` o `False`, seguido de un bloque de código con sangría que se ejecutará si se cumple la condición.\n",
    "\n",
    "```\n",
    "if expresion_prueba:\n",
    "    _# intrucción(es) a ejecutar_\n",
    "```\n",
    "\n",
    "Para escribir un programa con una lógica condicional más compleja, puedes agregar instrucciones `else` y `elif` al bloque de código. También puedes anidar instrucciones condicionales.\n",
    "\n",
    "```\n",
    "if expresion_prueba:\n",
    "    *# intrucción(es) a ejecutar*\n",
    "    if expresion_prueba:\n",
    "        *# intrucción(es) a ejecutar*\n",
    "    else: \n",
    "        *# intrucción(es) a ejecutar*\n",
    "elif expresion_prueba:\n",
    "    *# intrucción(es) a ejecutar*\n",
    "else:\n",
    "    *# intrucción(es) a ejecutar*\n",
    "```\n",
    "> **TIP** Dedica unos minutos a tratar de encontrar una solución. Luego desplázate hacia abajo hasta la parte inferior para ver si has logrado compilar el programa de acuerdo con las especificaciones.\n",
    "\n",
    "Para este ejercicio, escribirás una lógica condicional que imprima una advertencia si un asteroide se acerca a la Tierra demasiado rápido. La velocidad del asteroide varía dependiendo de lo cerca que esté del sol, y cualquier velocidad superior a 25 kilómetros por segundo (km/s) merece una advertencia.\n",
    "\n",
    "Un asteroide se acerca, y viaja a una velocidad de 49 km/s."
   ]
  },
  {
   "cell_type": "code",
   "execution_count": 8,
   "metadata": {},
   "outputs": [
    {
     "name": "stdout",
     "output_type": "stream",
     "text": [
      "¡¡Advertencia de acercamiento!! el asteroide se acerca a una velocidad de 49 km/s\n"
     ]
    }
   ],
   "source": [
    "# Añadir el código necesario para crear una variable que guarde la velocidad del asteroide.\n",
    "velocidad_asteroide = 49\n",
    "# Escribe una expresión de prueba para calcular si necesita una advertencia.\n",
    "if velocidad_asteroide > 25:\n",
    "# Agregue las instrucciones que se ejecutarán si la expresión de prueba es true o false.\n",
    "    print('¡¡Advertencia de acercamiento!! el asteroide se acerca a una velocidad de '+ str(velocidad_asteroide) + ' km/s')\n",
    "else:\n",
    "    print('El asteroide se encuentra a una distancia considerable para continuar con su día normal')"
   ]
  },
  {
   "cell_type": "markdown",
   "metadata": {},
   "source": [
    "Si un asteroide entra en la atmósfera de la Tierra a una velocidad mayor o igual a 20 km/s, a veces produce un rayo de luz que se puede ver desde la Tierra. Escribe la lógica condicional que usa declaraciones `if`, `else`, y `elif` para alertar a las personas de todo el mundo que deben buscar un asteroide en el cielo. ¡Hay uno que se dirige a la tierra ahora a una velocidad de 19 km/s!"
   ]
  },
  {
   "cell_type": "code",
   "execution_count": 9,
   "metadata": {},
   "outputs": [
    {
     "name": "stdout",
     "output_type": "stream",
     "text": [
      "¡Hay un asteroide que se dirige a la tierra ahora a una velocidad de 19 km/s!\n"
     ]
    }
   ],
   "source": [
    "# Agrega el código para crear una variable para un asteroide que viaja a 19 km/s\n",
    "velocidad_asteroide = 19\n",
    "# Escribe varias expresiones de prueba para determinar si puedes ver el rayo de luz desde la tierra\n",
    "if velocidad_asteroide > 20:\n",
    "# Agrega las instrucciones que se ejecutarán si las expresiones de prueba son True o False\n",
    "    print('Deben buscar un asteroide en el cielo')\n",
    "elif velocidad_asteroide == 20:\n",
    "    print('Deben buscar un asteroide en el cielo')\n",
    "else:\n",
    "    print('¡Hay un asteroide que se dirige a la tierra ahora a una velocidad de 19 km/s!')"
   ]
  },
  {
   "cell_type": "markdown",
   "metadata": {},
   "source": [
    "## Ejercicio: Uso de operadores and y or\n",
    "En el ejercicio anterior, trabajó con sentencias `if`, `else`, y `elif` para escribir programas con lógica condicional compleja. Para crear expresiones booleanas aún más interesantes, puede usar los operadores `and` y `or` en Python.\n",
    "\n",
    "Las expresiones `and` son sólo si ambas subexpresiones son verdaderas.\n",
    "\n",
    "`expresión1 and expresión2`\n",
    "\n",
    "Las expresiones `or` son `True` si al menos una subexpresión es verdadera.\n",
    "\n",
    "`expresión1 or expresión2`\n",
    "\n",
    "En este ejercicio, aprenderás información más matizada sobre cuándo los asteroides representan un peligro para la Tierra, y utilizarás esa información para mejorar nuestro sistema de advertencia. Aquí está la nueva información que necesitas saber:\n",
    "\n",
    "*Los asteroides de menos de 25 metros en su dimensión más grande probablemente se quemarán a medida que entren en la atmósfera de la Tierra.\n",
    "\n",
    "Si una pieza de un asteroide que es más grande que 25 metros pero más pequeña que 1000 metros golpeara la Tierra, causaría mucho daño.\n",
    "También discutimos en el ejercicio anterior que:\n",
    "\n",
    "La velocidad del asteroide varía en función de lo cerca que esté del sol, y cualquier velocidad superior a 25 kilómetros por segundo (km/s) merece una advertencia.\n",
    "Si un asteroide entra en la atmósfera de la Tierra a una velocidad mayor o igual a 20 km/s, a veces produce un rayo de luz que se puede ver desde la Tierra.\n",
    "Usando toda esta información, escribe un programa que emita la advertencia o información correcta a la gente de la Tierra, según la velocidad y el tamaño de un asteroide. Utiliza instrucciones `if`, `else`, y `elif`, así como los operadores `and` y `or`."
   ]
  },
  {
   "cell_type": "code",
   "execution_count": 19,
   "metadata": {},
   "outputs": [
    {
     "name": "stdout",
     "output_type": "stream",
     "text": [
      "¡¡Advertencia de acercamiento!! el asteroide se acerca a una velocidad de 20 km/s\n",
      "¡¡Advertencia de acercamiento!! el asteroide se acerca a una velocidad de 25 km/s\n"
     ]
    }
   ],
   "source": [
    "# Solución propia\n",
    "velocidad_asteroide = 20\n",
    "tamano_asteroide = 2500\n",
    "if tamano_asteroide > 25 and tamano_asteroide < 1000:\n",
    "    print('Un meteorito que mide '+ str(tamano_asteroide) + 'm se dirige a la Tierra y causará daño')\n",
    "elif velocidad_asteroide >= 20 or velocidad_asteroide > 25:\n",
    "    print('¡¡Advertencia de acercamiento!! el asteroide se acerca a una velocidad de '+ str(velocidad_asteroide) + ' km/s')\n",
    "else:\n",
    "    print('No existe adventencia de meteorito, puede continuar con su día cotidiano')\n",
    "\n",
    "\n",
    "# Solución propuesta en repositorio\n",
    "velocidad_asteroide = 25\n",
    "tamano_asteroide = 40\n",
    "if velocidad_asteroide > 25 and tamano_asteroide > 25:\n",
    "    print('¡¡Advertencia de acercamiento!! el asteroide se acerca a la Tierra')\n",
    "elif velocidad_asteroide >= 20:\n",
    "    print('¡¡Advertencia de acercamiento!! el asteroide se acerca a una velocidad de '+ str(velocidad_asteroide) + ' km/s')\n",
    "elif tamano_asteroide < 25:\n",
    "    print('No existe adventencia de meteorito, puede continuar con su día cotidiano')\n",
    "else:\n",
    "    print('No existe adventencia de meteorito, puede continuar con su día cotidiano')"
   ]
  }
 ],
 "metadata": {
  "interpreter": {
   "hash": "5fa2c7ab39f4f2ce2bf205c5a84935f865543a31d8365e3e0a4a2b9efbb760ed"
  },
  "kernelspec": {
   "display_name": "Python 3.9.10 64-bit (windows store)",
   "language": "python",
   "name": "python3"
  },
  "language_info": {
   "codemirror_mode": {
    "name": "ipython",
    "version": 3
   },
   "file_extension": ".py",
   "mimetype": "text/x-python",
   "name": "python",
   "nbconvert_exporter": "python",
   "pygments_lexer": "ipython3",
   "version": "3.9.10"
  },
  "orig_nbformat": 4
 },
 "nbformat": 4,
 "nbformat_minor": 2
}
